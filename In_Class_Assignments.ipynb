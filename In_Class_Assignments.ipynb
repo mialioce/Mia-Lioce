{
  "nbformat": 4,
  "nbformat_minor": 0,
  "metadata": {
    "colab": {
      "provenance": [],
      "authorship_tag": "ABX9TyPmbJf55+A6RhaK976pgjfF",
      "include_colab_link": true
    },
    "kernelspec": {
      "name": "python3",
      "display_name": "Python 3"
    },
    "language_info": {
      "name": "python"
    }
  },
  "cells": [
    {
      "cell_type": "markdown",
      "metadata": {
        "id": "view-in-github",
        "colab_type": "text"
      },
      "source": [
        "<a href=\"https://colab.research.google.com/github/mialioce/Mia-Lioce/blob/main/In_Class_Assignments.ipynb\" target=\"_parent\"><img src=\"https://colab.research.google.com/assets/colab-badge.svg\" alt=\"Open In Colab\"/></a>"
      ]
    },
    {
      "cell_type": "code",
      "execution_count": null,
      "metadata": {
        "colab": {
          "base_uri": "https://localhost:8080/"
        },
        "id": "mIIl7_0Agb20",
        "outputId": "97bfa3c1-44b5-4731-a4ab-987d45f88672"
      },
      "outputs": [
        {
          "output_type": "stream",
          "name": "stdout",
          "text": [
            "Enter Sales ($): 1\n",
            "Enter Cost of Goods Sold (%): 2\n",
            "Enter Tax Rate (%): 2\n",
            "Sales: $1.0\n",
            "Cost of Goods Sold: $0.02\n",
            "Gross Profit: $0.98\n",
            "Taxes: $0.0196\n",
            "Net Income: $0.9604\n"
          ]
        }
      ],
      "source": [
        "#income statement\n",
        "#inputs\n",
        "sales = input (\"Enter Sales ($): \")\n",
        "sales = float(sales)\n",
        "\n",
        "cogs_pct = input(\"Enter Cost of Goods Sold (%): \")\n",
        "cogs_pct = float(cogs_pct)\n",
        "\n",
        "tax_pct = input(\"Enter Tax Rate (%): \")\n",
        "tax_pct = float(tax_pct)\n",
        "\n",
        "#processes\n",
        "cogs = sales*cogs_pct /100\n",
        "profit = sales - cogs\n",
        "tax = profit*tax_pct/100\n",
        "income = profit - tax\n",
        "\n",
        "#outputs\n",
        "print(f\"Sales: ${sales}\")\n",
        "print(f\"Cost of Goods Sold: ${cogs}\")\n",
        "print(f\"Gross Profit: ${profit}\")\n",
        "print(f\"Taxes: ${tax}\")\n",
        "print(f\"Net Income: ${income}\")"
      ]
    },
    {
      "cell_type": "code",
      "source": [
        "#inventory management\n",
        "#inputs\n",
        "demand = int(input(\"Enter demand (units/year): \"))\n",
        "reorder = float(input (\"Enter reorder cost ($/unit): \"))\n",
        "holding = float(input (\"Enter holding cost ($/unit/year): \"))\n",
        "\n",
        "#processes\n",
        "eoq = (2*demand*reorder / holding)**0.5\n",
        "\n",
        "#output\n",
        "print(f\"EOQ: {eoq} units\")"
      ],
      "metadata": {
        "colab": {
          "base_uri": "https://localhost:8080/"
        },
        "id": "BP-HeK7_LltL",
        "outputId": "6807a4bc-1bcf-4a6a-8dac-24f05a944738"
      },
      "execution_count": null,
      "outputs": [
        {
          "output_type": "stream",
          "name": "stdout",
          "text": [
            "Enter demand (units/year): 100\n",
            "Enter reorder cost ($/unit): 1.5\n",
            "Enter holding cost ($/unit/year): 3\n",
            "EOQ: 10.0 units\n"
          ]
        }
      ]
    },
    {
      "cell_type": "code",
      "source": [
        "#numerical calculator\n",
        "#inputs\n",
        "num1 = float(input(\"Enter a number: \"))\n",
        "num2 = float(input(\"Enter a second number: \"))\n",
        "operator = input(\"Enter operator (+, -, *, /,  //, **, %): \")\n",
        "\n",
        "res = None\n",
        "\n",
        "#process\n",
        "if operator == \"-\":\n",
        "  res = num1-num2\n",
        "elif operator == \"+\":\n",
        "  res = num1+num2\n",
        "elif operator == \"*\":\n",
        "  res = num1*num2\n",
        "elif operator ==\"/\":\n",
        "  res= num1/num2\n",
        "elif operator ==\"//\":\n",
        "  res = num1//num2\n",
        "elif operator == \"**\":\n",
        "  res = num1**num2\n",
        "elif operator == \"%\":\n",
        "  res = num1%num2\n",
        "else:\n",
        "  print(\"Invalid operator\")\n",
        "\n",
        "#output\n",
        "print(f\"Result: {res}\")"
      ],
      "metadata": {
        "id": "KR77-u6dRP8X",
        "colab": {
          "base_uri": "https://localhost:8080/"
        },
        "outputId": "6ab601f8-1fc3-4a91-91b3-fd791e142887"
      },
      "execution_count": null,
      "outputs": [
        {
          "output_type": "stream",
          "name": "stdout",
          "text": [
            "Enter a number: 10\n",
            "Enter a second number: 5\n",
            "Enter operator (+, -, *, /,  //, **, %): +\n",
            "Result: 15.0\n"
          ]
        }
      ]
    },
    {
      "cell_type": "code",
      "source": [
        "#parking garage\n",
        "print(\"# of hours\\tFee ($)\")\n",
        "print(\"--------------------\")\n",
        "for hours in range(1, 9):\n",
        "   fee = 5 + hours * 2.5\n",
        "   if fee < 10:\n",
        "    fee = 10.0\n",
        "    print(f\"{hours}\\t\\t{fee}\")\n",
        "   elif fee > 20:\n",
        "    fee = 20.0\n",
        "    print(f\"{hours}\\t\\t{fee}\")\n",
        "   else:\n",
        "    print(f\"{hours}\\t\\t{fee}\")"
      ],
      "metadata": {
        "id": "AkveTpLYQBi9",
        "outputId": "0dc5099f-3c02-4340-f07c-c9785bba08dd",
        "colab": {
          "base_uri": "https://localhost:8080/"
        }
      },
      "execution_count": null,
      "outputs": [
        {
          "output_type": "stream",
          "name": "stdout",
          "text": [
            "# of hours\tFee ($)\n",
            "--------------------\n",
            "1\t\t10.0\n",
            "2\t\t10.0\n",
            "3\t\t12.5\n",
            "4\t\t15.0\n",
            "5\t\t17.5\n",
            "6\t\t20.0\n",
            "7\t\t20.0\n",
            "8\t\t20.0\n"
          ]
        }
      ]
    },
    {
      "cell_type": "code",
      "source": [
        "#movie theater\n",
        "#for loop\n",
        "\n",
        "for ad in range(0,201,25):\n",
        "  revenue = 20*10 + 10*2 * ad** 0.5\n",
        "  expenses = 200 + ad\n",
        "  profit = revenue - expenses\n",
        "  print (ad, profit)"
      ],
      "metadata": {
        "colab": {
          "base_uri": "https://localhost:8080/"
        },
        "id": "Z4YBnh2BPci0",
        "outputId": "754e6ef5-b2a9-49cc-eda3-154fca554c47"
      },
      "execution_count": null,
      "outputs": [
        {
          "output_type": "stream",
          "name": "stdout",
          "text": [
            "0 0.0\n",
            "25 75.0\n",
            "50 91.42135623730951\n",
            "75 98.20508075688775\n",
            "100 100.0\n",
            "125 98.60679774997897\n",
            "150 94.94897427831779\n",
            "175 89.57513110645903\n",
            "200 82.84271247461902\n"
          ]
        }
      ]
    },
    {
      "cell_type": "code",
      "source": [
        "#rock, paper, scissors\n",
        "import random\n",
        "\n",
        "while True:\n",
        "  play = input('Do you want to play a game (y/n?) ').lower()\n",
        "  if play != 'y':\n",
        "    break\n",
        "\n",
        "  #Rock, paper, scissors game here...\n",
        "  user_choice = input('Choose between rock, paper, scissor: ')\n",
        "  pc_choice = random.choice(['rock', 'paper', 'scissors'])\n",
        "\n",
        "  if user_choice == pc_choice:\n",
        "    print('Tie')\n",
        "  elif(\n",
        "      (user_choice == 'rock' and pc_choice == 'scissors') or\n",
        "      (user_choice == 'scissors' and pc_choice == 'paper') or\n",
        "      (user_choice == 'paper' and pc_choice == 'rock')\n",
        "      ):\n",
        "    print ('User wins')\n",
        "  else:\n",
        "    print('Computer wins')\n"
      ],
      "metadata": {
        "id": "nDE6t3QvfXBH"
      },
      "execution_count": null,
      "outputs": []
    },
    {
      "cell_type": "code",
      "source": [
        "#product prices (dictionaries)\n",
        "#create a dictionary\n",
        "\n",
        "products= {\n",
        "    'P-01' : 9.95,\n",
        "    'P-02' : 10.5\n",
        "    }\n",
        "user = input('Enter product ID: ')\n",
        "\n",
        "if user in products.keys():\n",
        "  print(f'Product: {user}, Price: ${products[user]}')\n",
        "else:\n",
        "  print('Invalid Key')"
      ],
      "metadata": {
        "colab": {
          "base_uri": "https://localhost:8080/"
        },
        "id": "X_w72mS8wCd0",
        "outputId": "adde48d8-f4ed-4199-b509-277bc90ee64d"
      },
      "execution_count": null,
      "outputs": [
        {
          "output_type": "stream",
          "name": "stdout",
          "text": [
            "Enter product ID: P-03\n",
            "Invalid Key\n"
          ]
        }
      ]
    },
    {
      "cell_type": "code",
      "source": [
        "#recursive function: string reversal\n",
        "\n",
        "def reverse(s):\n",
        "  if len(s)>1:\n",
        "    return s[-1]+ reverse(s[:-1])\n",
        "    #return s[-1]+ reverse(s[1:-1])+s[0]\n",
        "  else:\n",
        "    return s\n",
        "\n",
        "reverse('hello')"
      ],
      "metadata": {
        "colab": {
          "base_uri": "https://localhost:8080/",
          "height": 35
        },
        "id": "wv6IgoY0r9oF",
        "outputId": "201a53cc-3553-47fa-bca3-75db1024a809"
      },
      "execution_count": 1,
      "outputs": [
        {
          "output_type": "execute_result",
          "data": {
            "text/plain": [
              "'olleh'"
            ],
            "application/vnd.google.colaboratory.intrinsic+json": {
              "type": "string"
            }
          },
          "metadata": {},
          "execution_count": 1
        }
      ]
    }
  ]
}