{
  "nbformat": 4,
  "nbformat_minor": 0,
  "metadata": {
    "colab": {
      "provenance": [],
      "authorship_tag": "ABX9TyP/rsVATK7dRopXBTBYxLu6",
      "include_colab_link": true
    },
    "kernelspec": {
      "name": "python3",
      "display_name": "Python 3"
    },
    "language_info": {
      "name": "python"
    }
  },
  "cells": [
    {
      "cell_type": "markdown",
      "metadata": {
        "id": "view-in-github",
        "colab_type": "text"
      },
      "source": [
        "<a href=\"https://colab.research.google.com/github/mialioce/Mia-Lioce/blob/main/In_Class_Assignments.ipynb\" target=\"_parent\"><img src=\"https://colab.research.google.com/assets/colab-badge.svg\" alt=\"Open In Colab\"/></a>"
      ]
    },
    {
      "cell_type": "code",
      "execution_count": 4,
      "metadata": {
        "colab": {
          "base_uri": "https://localhost:8080/"
        },
        "id": "mIIl7_0Agb20",
        "outputId": "97bfa3c1-44b5-4731-a4ab-987d45f88672"
      },
      "outputs": [
        {
          "output_type": "stream",
          "name": "stdout",
          "text": [
            "Enter Sales ($): 1\n",
            "Enter Cost of Goods Sold (%): 2\n",
            "Enter Tax Rate (%): 2\n",
            "Sales: $1.0\n",
            "Cost of Goods Sold: $0.02\n",
            "Gross Profit: $0.98\n",
            "Taxes: $0.0196\n",
            "Net Income: $0.9604\n"
          ]
        }
      ],
      "source": [
        "#inome statement\n",
        "#inputs\n",
        "sales = input (\"Enter Sales ($): \")\n",
        "sales = float(sales)\n",
        "\n",
        "cogs_pct = input(\"Enter Cost of Goods Sold (%): \")\n",
        "cogs_pct = float(cogs_pct)\n",
        "\n",
        "tax_pct = input(\"Enter Tax Rate (%): \")\n",
        "tax_pct = float(tax_pct)\n",
        "\n",
        "#processes\n",
        "cogs = sales*cogs_pct /100\n",
        "profit = sales - cogs\n",
        "tax = profit*tax_pct/100\n",
        "income = profit - tax\n",
        "\n",
        "#outputs\n",
        "print(f\"Sales: ${sales}\")\n",
        "print(f\"Cost of Goods Sold: ${cogs}\")\n",
        "print(f\"Gross Profit: ${profit}\")\n",
        "print(f\"Taxes: ${tax}\")\n",
        "print(f\"Net Income: ${income}\")"
      ]
    },
    {
      "cell_type": "code",
      "source": [
        "#inventory management\n",
        "#inputs\n",
        "demand = int(input(\"Enter demand (units/year): \"))\n",
        "reorder = float(input (\"Enter reorder cost ($/unit): \"))\n",
        "holding = float(input (\"Enter holding cost ($/unit/year): \"))\n",
        "\n",
        "#processes\n",
        "eoq = (2*demand*reorder / holding)**0.5\n",
        "\n",
        "#output\n",
        "print(f\"EOQ: {eoq} units\")"
      ],
      "metadata": {
        "colab": {
          "base_uri": "https://localhost:8080/"
        },
        "id": "BP-HeK7_LltL",
        "outputId": "6807a4bc-1bcf-4a6a-8dac-24f05a944738"
      },
      "execution_count": 14,
      "outputs": [
        {
          "output_type": "stream",
          "name": "stdout",
          "text": [
            "Enter demand (units/year): 100\n",
            "Enter reorder cost ($/unit): 1.5\n",
            "Enter holding cost ($/unit/year): 3\n",
            "EOQ: 10.0 units\n"
          ]
        }
      ]
    }
  ]
}